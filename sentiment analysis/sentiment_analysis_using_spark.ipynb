{
 "cells": [
  {
   "cell_type": "code",
   "execution_count": 1,
   "metadata": {},
   "outputs": [],
   "source": [
    "from pyspark.sql import SQLContext\n",
    "from pyspark import SparkContext\n",
    "sc =SparkContext()\n",
    "sqlContext = SQLContext(sc)\n",
    "data = sqlContext.read.format('csv').options(header='true', inferschema='true').load('text_emotion.csv')\n"
   ]
  },
  {
   "cell_type": "code",
   "execution_count": 4,
   "metadata": {},
   "outputs": [
    {
     "name": "stdout",
     "output_type": "stream",
     "text": [
      "[Row(tweet_id=1956967341, sentiment='empty', author='xoshayzers', content='@tiffanylue i know  i was listenin to bad habit earlier and i started freakin at his part =['), Row(tweet_id=1956967666, sentiment='sadness', author='wannamama', content='Layin n bed with a headache  ughhhh...waitin on your call...'), Row(tweet_id=1956967696, sentiment='sadness', author='coolfunky', content='Funeral ceremony...gloomy friday...'), Row(tweet_id=1956967789, sentiment='enthusiasm', author='czareaquino', content='wants to hang out with friends SOON!'), Row(tweet_id=1956968416, sentiment='neutral', author='xkilljoyx', content='@dannycastillo We want to trade with someone who has Houston tickets, but no one will.')]\n",
      "+----------+--------------------+\n",
      "| sentiment|             content|\n",
      "+----------+--------------------+\n",
      "|     empty|@tiffanylue i kno...|\n",
      "|   sadness|Layin n bed with ...|\n",
      "|   sadness|Funeral ceremony....|\n",
      "|enthusiasm|wants to hang out...|\n",
      "|   neutral|@dannycastillo We...|\n",
      "+----------+--------------------+\n",
      "only showing top 5 rows\n",
      "\n"
     ]
    }
   ],
   "source": [
    "print(data.head(5))\n",
    "drop_list=['tweet_id','author']\n",
    "data=data.select([column for column in data.columns if column not in drop_list])\n",
    "data.show(5)"
   ]
  },
  {
   "cell_type": "code",
   "execution_count": 6,
   "metadata": {},
   "outputs": [
    {
     "name": "stdout",
     "output_type": "stream",
     "text": [
      "root\n",
      " |-- sentiment: string (nullable = true)\n",
      " |-- content: string (nullable = true)\n",
      "\n"
     ]
    }
   ],
   "source": [
    "data.printSchema()"
   ]
  },
  {
   "cell_type": "code",
   "execution_count": 7,
   "metadata": {},
   "outputs": [
    {
     "name": "stdout",
     "output_type": "stream",
     "text": [
      "+----------+-----+\n",
      "| sentiment|count|\n",
      "+----------+-----+\n",
      "|   neutral| 8638|\n",
      "|     worry| 8459|\n",
      "| happiness| 5209|\n",
      "|   sadness| 5165|\n",
      "|      love| 3842|\n",
      "|  surprise| 2187|\n",
      "|       fun| 1776|\n",
      "|    relief| 1526|\n",
      "|      hate| 1323|\n",
      "|     empty|  827|\n",
      "|enthusiasm|  759|\n",
      "|   boredom|  179|\n",
      "|     anger|  110|\n",
      "+----------+-----+\n",
      "\n"
     ]
    }
   ],
   "source": [
    "from pyspark.sql.functions import col\n",
    "data.groupBy(\"sentiment\") \\\n",
    "    .count() \\\n",
    "    .orderBy(col(\"count\").desc()) \\\n",
    "    .show()"
   ]
  },
  {
   "cell_type": "code",
   "execution_count": 8,
   "metadata": {},
   "outputs": [
    {
     "name": "stdout",
     "output_type": "stream",
     "text": [
      "+--------------------+-----+\n",
      "|             content|count|\n",
      "+--------------------+-----+\n",
      "|I just received a...|   14|\n",
      "|FREE UNLIMITED RI...|   13|\n",
      "| Happy Mother's Day!|   10|\n",
      "|   Happy Mothers Day|   10|\n",
      "|  happy mother's day|    8|\n",
      "|http://snipurl.co...|    7|\n",
      "|        Good Morning|    6|\n",
      "|   happy mothers day|    5|\n",
      "|        Good morning|    5|\n",
      "| happy mother's day!|    4|\n",
      "|  Happy mothers day!|    4|\n",
      "|Happy Mother's Da...|    4|\n",
      "|   i have a headache|    4|\n",
      "|            Headache|    4|\n",
      "|                   0|    4|\n",
      "|@DougieMcfly Haha...|    3|\n",
      "|  Happy Mothers Day!|    3|\n",
      "|  HAPPY MOTHERS DAY!|    3|\n",
      "|Good morning ever...|    3|\n",
      "|             nothing|    3|\n",
      "+--------------------+-----+\n",
      "only showing top 20 rows\n",
      "\n"
     ]
    }
   ],
   "source": [
    "data.groupBy(\"content\") \\\n",
    "    .count() \\\n",
    "    .orderBy(col(\"count\").desc()) \\\n",
    "    .show()"
   ]
  },
  {
   "cell_type": "code",
   "execution_count": 9,
   "metadata": {},
   "outputs": [],
   "source": [
    "from pyspark.ml.feature import RegexTokenizer, StopWordsRemover, CountVectorizer\n",
    "from pyspark.ml.classification import LogisticRegression\n",
    "# regular expression tokenizer\n",
    "regexTokenizer = RegexTokenizer(inputCol=\"content\", outputCol=\"words\", pattern=\"(@[A-Za-z0-9]+)|([^0-9A-Za-z \\t])|(\\w+:\\/\\/\\S+)\")\n",
    "# stop words\n",
    "add_stopwords = [\"http\",\"https\",\"amp\",\"rt\",\"t\",\"c\",\"the\",\"@\",\"#\",\"is\",\"this\",\"the\",\"that\"] \n",
    "stopwordsRemover = StopWordsRemover(inputCol=\"words\", outputCol=\"filtered\").setStopWords(add_stopwords)\n",
    "# bag of words count\n",
    "countVectors = CountVectorizer(inputCol=\"filtered\", outputCol=\"features\", vocabSize=10000, minDF=5)"
   ]
  },
  {
   "cell_type": "code",
   "execution_count": 10,
   "metadata": {},
   "outputs": [
    {
     "name": "stdout",
     "output_type": "stream",
     "text": [
      "+----------+--------------------+--------------------+--------------------+------------+-----+\n",
      "| sentiment|             content|               words|            filtered|    features|label|\n",
      "+----------+--------------------+--------------------+--------------------+------------+-----+\n",
      "|     empty|@tiffanylue i kno...|[ i know  i was l...|[ i know  i was l...|(1018,[],[])|  9.0|\n",
      "|   sadness|Layin n bed with ...|[layin n bed with...|[layin n bed with...|(1018,[],[])|  3.0|\n",
      "|   sadness|Funeral ceremony....|[funeral ceremony...|[funeral ceremony...|(1018,[],[])|  3.0|\n",
      "|enthusiasm|wants to hang out...|[wants to hang ou...|[wants to hang ou...|(1018,[],[])| 10.0|\n",
      "|   neutral|@dannycastillo We...|[ we want to trad...|[ we want to trad...|(1018,[],[])|  0.0|\n",
      "+----------+--------------------+--------------------+--------------------+------------+-----+\n",
      "only showing top 5 rows\n",
      "\n"
     ]
    }
   ],
   "source": [
    "from pyspark.ml import Pipeline\n",
    "from pyspark.ml.feature import OneHotEncoder, StringIndexer, VectorAssembler\n",
    "label_stringIdx = StringIndexer(inputCol = \"sentiment\", outputCol = \"label\")\n",
    "pipeline = Pipeline(stages=[regexTokenizer, stopwordsRemover, countVectors, label_stringIdx])\n",
    "# Fit the pipeline to training documents.\n",
    "pipelineFit = pipeline.fit(data)\n",
    "dataset = pipelineFit.transform(data)\n",
    "dataset.show(5)"
   ]
  },
  {
   "cell_type": "code",
   "execution_count": 11,
   "metadata": {},
   "outputs": [
    {
     "name": "stdout",
     "output_type": "stream",
     "text": [
      "Training Dataset Count: 28008\n",
      "Test Dataset Count: 11992\n"
     ]
    }
   ],
   "source": [
    "# set seed for reproducibility\n",
    "(trainingData, testData) = dataset.randomSplit([0.7, 0.3], seed = 100)\n",
    "print(\"Training Dataset Count: \" + str(trainingData.count()))\n",
    "print(\"Test Dataset Count: \" + str(testData.count()))"
   ]
  },
  {
   "cell_type": "code",
   "execution_count": 12,
   "metadata": {},
   "outputs": [
    {
     "name": "stdout",
     "output_type": "stream",
     "text": [
      "+------------------------------+---------+------------------------------+-----+----------+\n",
      "|                       content|sentiment|                   probability|label|prediction|\n",
      "+------------------------------+---------+------------------------------+-----+----------+\n",
      "|@AngelaIsshay oh that's wha...| surprise|[0.6180130460190141,0.07249...|  5.0|       0.0|\n",
      "|#frenchieb-day #frenchieb-d...|  neutral|[0.6045925760682105,0.10797...|  0.0|       0.0|\n",
      "|#frenchieb-day #frenchieb-d...|  neutral|[0.6045925760682105,0.10797...|  0.0|       0.0|\n",
      "|@Dani___ okay, i'll finally...|    worry|[0.5916788072573377,0.08004...|  1.0|       0.0|\n",
      "|@filos @elliottucker thanks...|happiness|[0.5570483594039325,0.10966...|  2.0|       0.0|\n",
      "|@r_u_b_y_l totes it's gonna...|happiness|[0.5457999874351035,0.04101...|  2.0|       0.0|\n",
      "|Sorry for the apparent spam...|    worry|[0.5453218908102234,0.11541...|  1.0|       0.0|\n",
      "|@heycassadee SUPER EXCITED....|happiness|[0.5230171482299447,0.11847...|  2.0|       0.0|\n",
      "|Blah. So i registered to co...|      fun|[0.5180417780332577,0.06432...|  6.0|       0.0|\n",
      "|didn't twitter much yesterd...|   relief|[0.4926211043464203,0.10826...|  7.0|       0.0|\n",
      "+------------------------------+---------+------------------------------+-----+----------+\n",
      "only showing top 10 rows\n",
      "\n"
     ]
    }
   ],
   "source": [
    "lr = LogisticRegression(maxIter=20, regParam=0.3, elasticNetParam=0)\n",
    "lrModel = lr.fit(trainingData)\n",
    "predictions = lrModel.transform(testData)\n",
    "predictions.filter(predictions['prediction'] == 0) \\\n",
    "    .select(\"content\",\"sentiment\",\"probability\",\"label\",\"prediction\") \\\n",
    "    .orderBy(\"probability\", ascending=False) \\\n",
    "    .show(n = 10, truncate = 30)"
   ]
  },
  {
   "cell_type": "code",
   "execution_count": 13,
   "metadata": {},
   "outputs": [
    {
     "data": {
      "text/plain": [
       "0.16604458421594048"
      ]
     },
     "execution_count": 13,
     "metadata": {},
     "output_type": "execute_result"
    }
   ],
   "source": [
    "from pyspark.ml.evaluation import MulticlassClassificationEvaluator\n",
    "evaluator = MulticlassClassificationEvaluator(predictionCol=\"prediction\")\n",
    "evaluator.evaluate(predictions)"
   ]
  },
  {
   "cell_type": "code",
   "execution_count": 14,
   "metadata": {},
   "outputs": [
    {
     "name": "stdout",
     "output_type": "stream",
     "text": [
      "+------------------------------+---------+------------------------------+-----+----------+\n",
      "|                       content|sentiment|                   probability|label|prediction|\n",
      "+------------------------------+---------+------------------------------+-----+----------+\n",
      "|@wishinghearts oh wow! I ha...|     love|[0.8370347841026007,0.03386...|  4.0|       0.0|\n",
      "|Is wondering why my message...|    worry|[0.8189054337246018,0.01792...|  1.0|       0.0|\n",
      "|i jus love doin night shift...|      fun|[0.7800398985268713,0.03904...|  6.0|       0.0|\n",
      "|: experiencing the unique #...|     love|[0.7748558683956319,0.07558...|  4.0|       0.0|\n",
      "|Going out to eat with my en...|      fun|[0.771389017508997,0.048978...|  6.0|       0.0|\n",
      "|@maroon5princess I used to ...|      fun|[0.7660878676121049,0.03296...|  6.0|       0.0|\n",
      "|@aMj89 Until @twitter bring...|  neutral|[0.7508590423002167,0.04367...|  0.0|       0.0|\n",
      "|@jojototh @abduzeedo firefo...|     hate|[0.742498051950582,0.045592...|  8.0|       0.0|\n",
      "|Didn't sleep good last nigh...|    worry|[0.7369432059978129,0.06131...|  1.0|       0.0|\n",
      "|#frenchieb-day #frenchieb-d...|  neutral|[0.7286736552643859,0.07302...|  0.0|       0.0|\n",
      "+------------------------------+---------+------------------------------+-----+----------+\n",
      "only showing top 10 rows\n",
      "\n"
     ]
    }
   ],
   "source": [
    "from pyspark.ml.feature import HashingTF, IDF\n",
    "hashingTF = HashingTF(inputCol=\"filtered\", outputCol=\"rawFeatures\", numFeatures=10000)\n",
    "idf = IDF(inputCol=\"rawFeatures\", outputCol=\"features\", minDocFreq=5) #minDocFreq: remove sparse terms\n",
    "pipeline = Pipeline(stages=[regexTokenizer, stopwordsRemover, hashingTF, idf, label_stringIdx])\n",
    "pipelineFit = pipeline.fit(data)\n",
    "dataset = pipelineFit.transform(data)\n",
    "(trainingData, testData) = dataset.randomSplit([0.7, 0.3], seed = 100)\n",
    "lr = LogisticRegression(maxIter=20, regParam=0.3, elasticNetParam=0)\n",
    "lrModel = lr.fit(trainingData)\n",
    "predictions = lrModel.transform(testData)\n",
    "predictions.filter(predictions['prediction'] == 0) \\\n",
    "    .select(\"content\",\"sentiment\",\"probability\",\"label\",\"prediction\") \\\n",
    "    .orderBy(\"probability\", ascending=False) \\\n",
    "    .show(n = 10, truncate = 30)"
   ]
  },
  {
   "cell_type": "code",
   "execution_count": 15,
   "metadata": {},
   "outputs": [
    {
     "data": {
      "text/plain": [
       "0.16917440122122518"
      ]
     },
     "execution_count": 15,
     "metadata": {},
     "output_type": "execute_result"
    }
   ],
   "source": [
    "evaluator = MulticlassClassificationEvaluator(predictionCol=\"prediction\")\n",
    "evaluator.evaluate(predictions)\n"
   ]
  },
  {
   "cell_type": "code",
   "execution_count": 16,
   "metadata": {},
   "outputs": [
    {
     "data": {
      "text/plain": [
       "0.17466151364040416"
      ]
     },
     "execution_count": 16,
     "metadata": {},
     "output_type": "execute_result"
    }
   ],
   "source": [
    "pipeline = Pipeline(stages=[regexTokenizer, stopwordsRemover, countVectors, label_stringIdx])\n",
    "pipelineFit = pipeline.fit(data)\n",
    "dataset = pipelineFit.transform(data)\n",
    "(trainingData, testData) = dataset.randomSplit([0.7, 0.3], seed = 100)\n",
    "lr = LogisticRegression(maxIter=20, regParam=0.3, elasticNetParam=0)\n",
    "from pyspark.ml.tuning import ParamGridBuilder, CrossValidator\n",
    "# Create ParamGrid for Cross Validation\n",
    "paramGrid = (ParamGridBuilder()\n",
    "             .addGrid(lr.regParam, [0.1, 0.3, 0.5]) # regularization parameter\n",
    "             .addGrid(lr.elasticNetParam, [0.0, 0.1, 0.2]) # Elastic Net Parameter (Ridge = 0)\n",
    "#            .addGrid(model.maxIter, [10, 20, 50]) #Number of iterations\n",
    "#            .addGrid(idf.numFeatures, [10, 100, 1000]) # Number of features\n",
    "             .build())\n",
    "# Create 5-fold CrossValidator\n",
    "cv = CrossValidator(estimator=lr, \\\n",
    "                    estimatorParamMaps=paramGrid, \\\n",
    "                    evaluator=evaluator, \\\n",
    "                    numFolds=5)\n",
    "cvModel = cv.fit(trainingData)\n",
    "\n",
    "predictions = cvModel.transform(testData)\n",
    "# Evaluate best model\n",
    "evaluator = MulticlassClassificationEvaluator(predictionCol=\"prediction\")\n",
    "evaluator.evaluate(predictions)"
   ]
  },
  {
   "cell_type": "code",
   "execution_count": 18,
   "metadata": {},
   "outputs": [
    {
     "name": "stdout",
     "output_type": "stream",
     "text": [
      "+------------------------------+---------+------------------------------+-----+----------+\n",
      "|                       content|sentiment|                   probability|label|prediction|\n",
      "+------------------------------+---------+------------------------------+-----+----------+\n",
      "|#frenchieb-day #frenchieb-d...|  neutral|[0.9999985676382841,8.01437...|  0.0|       0.0|\n",
      "|#frenchieb-day #frenchieb-d...|  neutral|[0.9999985676382841,8.01437...|  0.0|       0.0|\n",
      "|@pro01, @if__fi: ??????? ??...|  neutral|[0.9943831803147599,9.54821...|  0.0|       0.0|\n",
      "|????, ?? #sctest ????? ?? ?...| surprise|[0.9769181613803867,0.00581...|  5.0|       0.0|\n",
      "|??????? ????????? ?? Google...|  neutral|[0.9261944635458372,0.02311...|  0.0|       0.0|\n",
      "|@xoangelbabiixo @Babygirl94...|    worry|[0.897646918378875,0.033665...|  1.0|       0.0|\n",
      "|@erinhosborn Thanks Legolas...|happiness|[0.8867027204178377,0.02042...|  2.0|       0.0|\n",
      "|@Atomik re: the job ... sti...|  neutral|[0.8599918839285794,0.06840...|  0.0|       0.0|\n",
      "|I cant follow any1  on Foll...|  neutral|[0.8585970660639951,0.04838...|  0.0|       0.0|\n",
      "|Finally welcoming new #foll...| surprise|[0.8585970660639951,0.04838...|  5.0|       0.0|\n",
      "+------------------------------+---------+------------------------------+-----+----------+\n",
      "only showing top 10 rows\n",
      "\n"
     ]
    }
   ],
   "source": [
    "from pyspark.ml.classification import NaiveBayes\n",
    "nb = NaiveBayes(smoothing=1)\n",
    "model = nb.fit(trainingData)\n",
    "predictions = model.transform(testData)\n",
    "predictions.filter(predictions['prediction'] == 0) \\\n",
    "    .select(\"content\",\"sentiment\",\"probability\",\"label\",\"prediction\") \\\n",
    "    .orderBy(\"probability\", ascending=False) \\\n",
    "    .show(n = 10, truncate = 30)"
   ]
  },
  {
   "cell_type": "code",
   "execution_count": 19,
   "metadata": {},
   "outputs": [
    {
     "data": {
      "text/plain": [
       "0.17517654934338553"
      ]
     },
     "execution_count": 19,
     "metadata": {},
     "output_type": "execute_result"
    }
   ],
   "source": [
    "evaluator = MulticlassClassificationEvaluator(predictionCol=\"prediction\")\n",
    "evaluator.evaluate(predictions)"
   ]
  },
  {
   "cell_type": "code",
   "execution_count": 21,
   "metadata": {},
   "outputs": [
    {
     "name": "stdout",
     "output_type": "stream",
     "text": [
      "+------------------------------+---------+------------------------------+-----+----------+\n",
      "|                       content|sentiment|                   probability|label|prediction|\n",
      "+------------------------------+---------+------------------------------+-----+----------+\n",
      "|@simbaaa @mahimaaa SORRY! I...|  sadness|[0.22419877030254007,0.2190...|  3.0|       0.0|\n",
      "|you always seem to know exa...|     love|[0.22348869414567857,0.2026...|  4.0|       0.0|\n",
      "|@Jean_Pierce Well the Enter...|     love|[0.22304441539826048,0.2085...|  4.0|       0.0|\n",
      "|FOR @john_b_waters and  @mr...|  neutral|[0.22304441539826048,0.2085...|  0.0|       0.0|\n",
      "|@r_u_b_y_l totes it's gonna...|happiness|[0.22304441539826048,0.2085...|  2.0|       0.0|\n",
      "|4 novos followers http://mi...|    worry|[0.22295078099920929,0.2201...|  1.0|       0.0|\n",
      "|@kenyaimagine ... much more...|  sadness|[0.22295078099920929,0.2201...|  3.0|       0.0|\n",
      "|@nomaditation  oo? u?op ?p?...|  neutral|[0.22277043538910077,0.2055...|  0.0|       0.0|\n",
      "|how do I gain weight?! I lo...|    worry|[0.22257812295253554,0.2108...|  1.0|       0.0|\n",
      "|i am sleeepyyy. today = bus...|  sadness|[0.22257812295253554,0.2108...|  3.0|       0.0|\n",
      "+------------------------------+---------+------------------------------+-----+----------+\n",
      "only showing top 10 rows\n",
      "\n"
     ]
    }
   ],
   "source": [
    "from pyspark.ml.classification import RandomForestClassifier\n",
    "rf = RandomForestClassifier(labelCol=\"label\", \\\n",
    "                            featuresCol=\"features\", \\\n",
    "                            numTrees = 100, \\\n",
    "                            maxDepth = 4, \\\n",
    "                            maxBins = 32)\n",
    "# Train model with Training Data\n",
    "rfModel = rf.fit(trainingData)\n",
    "predictions = rfModel.transform(testData)\n",
    "predictions.filter(predictions['prediction'] == 0) \\\n",
    "    .select(\"content\",\"sentiment\",\"probability\",\"label\",\"prediction\") \\\n",
    "    .orderBy(\"probability\", ascending=False) \\\n",
    "    .show(n = 10, truncate = 30)"
   ]
  },
  {
   "cell_type": "code",
   "execution_count": 22,
   "metadata": {},
   "outputs": [
    {
     "data": {
      "text/plain": [
       "0.10322277595507494"
      ]
     },
     "execution_count": 22,
     "metadata": {},
     "output_type": "execute_result"
    }
   ],
   "source": [
    "evaluator = MulticlassClassificationEvaluator(predictionCol=\"prediction\")\n",
    "evaluator.evaluate(predictions)"
   ]
  }
 ],
 "metadata": {
  "kernelspec": {
   "display_name": "Python [conda env:py35]",
   "language": "python",
   "name": "conda-env-py35-py"
  },
  "language_info": {
   "codemirror_mode": {
    "name": "ipython",
    "version": 3
   },
   "file_extension": ".py",
   "mimetype": "text/x-python",
   "name": "python",
   "nbconvert_exporter": "python",
   "pygments_lexer": "ipython3",
   "version": "3.5.1"
  }
 },
 "nbformat": 4,
 "nbformat_minor": 2
}
